{
 "cells": [
  {
   "cell_type": "code",
   "execution_count": 7,
   "metadata": {},
   "outputs": [],
   "source": [
    "import numpy as np\n",
    "import torch"
   ]
  },
  {
   "cell_type": "code",
   "execution_count": 10,
   "metadata": {},
   "outputs": [],
   "source": [
    "def rmse(a,b):\n",
    "    return np.sqrt(np.mean((a-b)**2))\n",
    "def mape(a,b):\n",
    "    return np.mean(np.abs(np.multiply(b-a, np.power(b,-1))))\n",
    "def mae(a,b):\n",
    "    return np.mean(np.abs(a-b))"
   ]
  },
  {
   "cell_type": "code",
   "execution_count": 12,
   "metadata": {},
   "outputs": [],
   "source": [
    "in11 = torch.load(\"sim100_r2P3N25L_N_05v1.py\")[\"y_true\"]\n",
    "in21 = torch.load(\"sim100_r2P3N25L_N_05v1.py\")[\"y_predDW\"]\n",
    "in31 = torch.load(\"sim100_r2P3N25L_N_05v1.py\")[\"y_predN\"] \n",
    "in41 = torch.load(\"sim100_r2P3N25L_N_05v1.py\")[\"y_predL\"] \n",
    "in12 = torch.load(\"sim100_r2P3N25L_N_05v2.py\")[\"y_true\"]\n",
    "in22 = torch.load(\"sim100_r2P3N25L_N_05v2.py\")[\"y_predDW\"]\n",
    "in32 = torch.load(\"sim100_r2P3N25L_N_05v2.py\")[\"y_predN\"] \n",
    "in42 = torch.load(\"sim100_r2P3N25L_N_05v2.py\")[\"y_predL\"] \n",
    "\n",
    "in1 = in11+in12\n",
    "in2 = in21+in22\n",
    "in3 = in31+in32\n",
    "in4 = in41+in42\n",
    "\n",
    "#in1 = torch.load(\"sim500_r2P3N25_N.py\")[\"y_true\"]\n",
    "#in2 = torch.load(\"sim500_r2P3N25_N.py\")[\"y_predDW\"]\n",
    "#in3 = torch.load(\"sim500_r2P3N25_N.py\")[\"y_predN\"] \n",
    "#in4 = torch.load(\"sim500_r2P3N25_N.py\")[\"y_predL\"]"
   ]
  },
  {
   "cell_type": "code",
   "execution_count": 13,
   "metadata": {},
   "outputs": [],
   "source": [
    "y_true = in1[0].view(1,-1).float()\n",
    "for i in range(1,len(in1)):\n",
    "    y_true = torch.cat([y_true, in1[i].view(1,-1).float()],dim=0)\n",
    "y_true = np.array(y_true.detach())\n",
    "NLTRDW = in2[0].view(1,-1).float()\n",
    "for i in range(1,len(in2)):\n",
    "    NLTRDW = torch.cat([NLTRDW, in2[i].view(1,-1).float()],dim=0)\n",
    "NLTRDW = np.array(NLTRDW.detach())\n",
    "NLTR = in3[0].view(1,-1).float()\n",
    "for i in range(1,len(in3)):\n",
    "    NLTR = torch.cat([NLTR, in3[i].view(1,-1).float()],dim=0)\n",
    "NLTR = np.array(NLTR.detach())\n",
    "LTRL = in4[0].view(1,-1).float()\n",
    "for i in range(1,len(in4)):\n",
    "    LTRL = torch.cat([LTRL, in4[i].view(1,-1).float()],dim=0)\n",
    "LTRL = np.array(LTRL.detach())"
   ]
  },
  {
   "cell_type": "code",
   "execution_count": 14,
   "metadata": {},
   "outputs": [
    {
     "name": "stdout",
     "output_type": "stream",
     "text": [
      "1.110217 0.88080704 1.2067391\n",
      "1.1196002 0.88643646 1.1304601\n",
      "1.0420803 0.83245075 2.0874922\n"
     ]
    }
   ],
   "source": [
    "print(rmse(NLTRDW,y_true),mae(NLTRDW,y_true),mape(NLTRDW,y_true))\n",
    "print(rmse(NLTR,y_true),mae(NLTR,y_true),mape(NLTR,y_true))\n",
    "print(rmse(LTRL,y_true),mae(LTRL,y_true),mape(LTRL,y_true))"
   ]
  },
  {
   "cell_type": "code",
   "execution_count": 6,
   "metadata": {},
   "outputs": [
    {
     "name": "stdout",
     "output_type": "stream",
     "text": [
      "200\n"
     ]
    }
   ],
   "source": [
    "print(len(in1))"
   ]
  },
  {
   "cell_type": "code",
   "execution_count": 15,
   "metadata": {},
   "outputs": [
    {
     "name": "stdout",
     "output_type": "stream",
     "text": [
      "0.47539881079712526\n",
      "0.5110014632730613\n",
      "0.19715867973535467\n"
     ]
    }
   ],
   "source": [
    "from statistics import mean, median\n",
    "Smp_size = 100\n",
    "names = torch.load(\"sim100_r2P3N25L_N_05V1.py\")\n",
    "names2 = torch.load(\"sim100_r2P3N25L_N_05V2.py\")\n",
    "print(mean(np.append(names[\"predErrorDW\" + str(Smp_size)],names2[\"predErrorDW\" + str(Smp_size)])))\n",
    "print(mean(np.append(names[\"predErrorN\" + str(Smp_size)],names2[\"predErrorN\" + str(Smp_size)])))\n",
    "print(mean(np.append(names[\"predErrorL\" + str(Smp_size)],names[\"predErrorL\" + str(Smp_size)])))"
   ]
  },
  {
   "cell_type": "code",
   "execution_count": null,
   "metadata": {},
   "outputs": [],
   "source": []
  }
 ],
 "metadata": {
  "kernelspec": {
   "display_name": "Python 3",
   "language": "python",
   "name": "python3"
  },
  "language_info": {
   "codemirror_mode": {
    "name": "ipython",
    "version": 3
   },
   "file_extension": ".py",
   "mimetype": "text/x-python",
   "name": "python",
   "nbconvert_exporter": "python",
   "pygments_lexer": "ipython3",
   "version": "3.6.5"
  }
 },
 "nbformat": 4,
 "nbformat_minor": 2
}
