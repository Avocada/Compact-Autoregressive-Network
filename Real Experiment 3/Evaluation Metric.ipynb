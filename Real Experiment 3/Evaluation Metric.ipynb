{
 "cells": [
  {
   "cell_type": "code",
   "execution_count": 49,
   "metadata": {},
   "outputs": [],
   "source": [
    "import numpy as np\n",
    "import torch"
   ]
  },
  {
   "cell_type": "code",
   "execution_count": 50,
   "metadata": {},
   "outputs": [],
   "source": [
    "def rmse(a,b):\n",
    "    return np.sqrt(np.mean((a-b)**2))\n",
    "def mape(a,b):\n",
    "    return np.mean(np.abs(np.multiply(b-a, np.reciprocal(b,-1))))\n",
    "def mae(a,b):\n",
    "    return np.mean(np.abs(a-b))"
   ]
  },
  {
   "cell_type": "code",
   "execution_count": 51,
   "metadata": {},
   "outputs": [],
   "source": [
    "in1 = torch.load(\"Real_200_268_30_s.py\")[\"y_true\"]\n",
    "in2 = torch.load(\"Real_200_268_30_s.py\")[\"LTRDW_pred\"]\n",
    "in3 = torch.load(\"Real_200_268_30_s.py\")[\"LTRN_pred\"]\n",
    "in4 = torch.load(\"Real_200_268_30_s.py\")[\"LTRL_pred\"]\n",
    "in5 = torch.load(\"Real_200_268_30_s.py\")[\"LTRM_pred\"]\n",
    "in6 = torch.load(\"Real_200_268_30_s.py\")[\"LTRR_pred\"]\n",
    "in7 = torch.load(\"Real_200RNN1s.py\")[\"LTRRNN1_pred\"]\n",
    "in8 = torch.load(\"Real_200LSTM1s.py\")[\"LTRLSTM1_pred\"]"
   ]
  },
  {
   "cell_type": "code",
   "execution_count": 31,
   "metadata": {},
   "outputs": [],
   "source": [
    "y_true = in1[0].view(1,-1).float()\n",
    "for i in range(1,len(in2)):\n",
    "    y_true = torch.cat([y_true, in1[i].view(1,-1).float()],dim=0)\n",
    "y_true = np.array(y_true.detach())\n",
    "LTRDW = in2[0].view(1,-1)\n",
    "for i in range(1,len(in2)):\n",
    "    LTRDW = torch.cat([LTRDW, in2[i].view(1,-1)],dim=0)\n",
    "LTRDW = np.array(LTRDW.detach())\n",
    "LTRN = in3[0].view(1,-1)\n",
    "for i in range(1,len(in3)):\n",
    "    LTRN = torch.cat([LTRN, in3[i].view(1,-1)],dim=0)\n",
    "LTRN = np.array(LTRN.detach())\n",
    "LTRL = in4[0].view(1,-1)\n",
    "for i in range(1,len(in4)):\n",
    "    LTRL = torch.cat([LTRL, in4[i].view(1,-1)],dim=0)\n",
    "LTRL = np.array(LTRL.detach())\n",
    "LTRM = in5[0].view(1,-1)\n",
    "for i in range(1,len(in5)):\n",
    "    LTRM = torch.cat([LTRM, in5[i].view(1,-1)],dim=0)\n",
    "LTRM = np.array(LTRM.detach())\n",
    "LTRR = in6[0].view(1,-1)\n",
    "for i in range(1,len(in6)):\n",
    "    LTRR = torch.cat([LTRR, in6[i].view(1,-1)],dim=0)\n",
    "LTRR = np.array(LTRR.detach())\n",
    "LTRRNN = in7[0]\n",
    "for i in range(1,len(in7)):\n",
    "    LTRRNN = np.concatenate([LTRRNN, in7[i]])\n",
    "LTRLSTM = in8[0]\n",
    "for i in range(1,len(in8)):\n",
    "    LTRLSTM = np.concatenate([LTRLSTM, in8[i]])"
   ]
  },
  {
   "cell_type": "code",
   "execution_count": 32,
   "metadata": {},
   "outputs": [
    {
     "name": "stdout",
     "output_type": "stream",
     "text": [
      "0.11819072 0.075290605\n",
      "0.11805357 0.07550727\n",
      "0.17381957 0.105749324\n",
      "0.122395165 0.08892667\n",
      "0.13913137 0.08691171\n",
      "0.1249288 0.080239706\n",
      "0.12274003 0.0820544\n"
     ]
    }
   ],
   "source": [
    "print(rmse(LTRDW,y_true),mae(LTRDW,y_true))\n",
    "print(rmse(LTRN,y_true),mae(LTRN,y_true))\n",
    "print(rmse(LTRL,y_true),mae(LTRL,y_true))\n",
    "print(rmse(LTRM,y_true),mae(LTRM,y_true))\n",
    "print(rmse(LTRR,y_true),mae(LTRR,y_true))\n",
    "print(rmse(LTRRNN,y_true),mae(LTRRNN,y_true))\n",
    "print(rmse(LTRLSTM,y_true),mae(LTRLSTM,y_true))"
   ]
  },
  {
   "cell_type": "code",
   "execution_count": 8,
   "metadata": {},
   "outputs": [],
   "source": [
    "#Performing t-test for L2, L1 norm"
   ]
  },
  {
   "cell_type": "code",
   "execution_count": 35,
   "metadata": {},
   "outputs": [],
   "source": [
    "in9 = torch.load(\"Real_200_268_30_s.py\")\n",
    "in10 = torch.load(\"Real_200RNN1s.py\")\n",
    "in11 = torch.load(\"Real_200LSTM1s.py\")\n",
    "pred_size = len(in9[\"predErrorDW\"])"
   ]
  },
  {
   "cell_type": "code",
   "execution_count": 36,
   "metadata": {},
   "outputs": [
    {
     "name": "stdout",
     "output_type": "stream",
     "text": [
      "0.793589097222919\n",
      "0.7973837509898801\n",
      "1.012490321890594\n",
      "0.848227221956466\n",
      "0.8450965912137312\n",
      "0.8234569992125932\n",
      "0.833443590878925\n"
     ]
    }
   ],
   "source": [
    "# bias of L2 norm\n",
    "print(np.mean(in9[\"predErrorDW\"]))\n",
    "print(np.mean(in9[\"predErrorN\"]))\n",
    "print(np.mean(in9[\"predErrorL\"]))\n",
    "print(np.mean(in9[\"predErrorM\"]))\n",
    "print(np.mean(in9[\"predErrorR\"]))\n",
    "print(np.mean(in10[\"predErrorRNN1\"]))\n",
    "print(np.mean(in11[\"predErrorLSTM1\"]))"
   ]
  },
  {
   "cell_type": "code",
   "execution_count": 37,
   "metadata": {},
   "outputs": [
    {
     "name": "stdout",
     "output_type": "stream",
     "text": [
      "0.0333333091678333\n",
      "0.033191207019108666\n",
      "0.09492441953250294\n",
      "0.030028097569019137\n",
      "0.0514721892660657\n",
      "0.03634687052035156\n",
      "0.03281550431917206\n"
     ]
    }
   ],
   "source": [
    "# stdL2/sqrt(71)\n",
    "print(np.std(in9[\"predErrorDW\"])/np.sqrt(pred_size))\n",
    "print(np.std(in9[\"predErrorN\"])/np.sqrt(pred_size))\n",
    "print(np.std(in9[\"predErrorL\"])/np.sqrt(pred_size))\n",
    "print(np.std(in9[\"predErrorM\"])/np.sqrt(pred_size))\n",
    "print(np.std(in9[\"predErrorR\"])/np.sqrt(pred_size))\n",
    "print(np.std(in10[\"predErrorRNN1\"])/np.sqrt(pred_size))\n",
    "print(np.std(in11[\"predErrorLSTM1\"])/np.sqrt(pred_size))"
   ]
  },
  {
   "cell_type": "code",
   "execution_count": 38,
   "metadata": {},
   "outputs": [
    {
     "name": "stdout",
     "output_type": "stream",
     "text": [
      "0.013508366015918536\n",
      "0.013574991810749615\n",
      "0.013574991810749615\n",
      "0.01388231888025095\n",
      "0.017562241595013236\n",
      "0.013682476125184593\n",
      "0.014423532413658643\n"
     ]
    }
   ],
   "source": [
    "#stdLinf/sqrt(71)\n",
    "print(np.std(in9[\"predErrorDWLinf\"])/np.sqrt(pred_size))\n",
    "print(np.std(in9[\"predErrorNLinf\"])/np.sqrt(pred_size))\n",
    "print(np.std(in9[\"predErrorLLinf\"])/np.sqrt(pred_size))\n",
    "print(np.std(in9[\"predErrorMLinf\"])/np.sqrt(pred_size))\n",
    "print(np.std(in9[\"predErrorRLinf\"])/np.sqrt(pred_size))\n",
    "print(np.std(in10[\"predErrorRNN1Linf\"])/np.sqrt(pred_size))\n",
    "print(np.std(in11[\"predErrorLSTM1Linf\"])/np.sqrt(pred_size))"
   ]
  },
  {
   "cell_type": "code",
   "execution_count": 39,
   "metadata": {},
   "outputs": [],
   "source": [
    "def L1norm(A, B):\n",
    "    gap = np.sum(abs(A - B))\n",
    "    return gap"
   ]
  },
  {
   "cell_type": "code",
   "execution_count": 40,
   "metadata": {},
   "outputs": [],
   "source": [
    "L1listDW = np.zeros(pred_size)\n",
    "L1listN = np.zeros(pred_size)\n",
    "L1listL = np.zeros(pred_size)\n",
    "L1listM = np.zeros(pred_size)\n",
    "L1listR = np.zeros(pred_size)\n",
    "L1listRNN = np.zeros(pred_size)\n",
    "L1listLSTM = np.zeros(pred_size)\n",
    "for i in range(pred_size):\n",
    "    L1listDW[i] = L1norm(LTRDW[i],y_true[i])\n",
    "    L1listN[i] = L1norm(LTRN[i],y_true[i])\n",
    "    L1listL[i] = L1norm(LTRL[i],y_true[i])\n",
    "    L1listM[i] = L1norm(LTRM[i],y_true[i])\n",
    "    L1listR[i] = L1norm(LTRR[i],y_true[i])\n",
    "    L1listRNN[i] = L1norm(LTRRNN[i],y_true[i])\n",
    "    L1listLSTM[i] = L1norm(LTRLSTM[i],y_true[i])"
   ]
  },
  {
   "cell_type": "code",
   "execution_count": 41,
   "metadata": {},
   "outputs": [
    {
     "name": "stdout",
     "output_type": "stream",
     "text": [
      "3.764530086181533\n",
      "3.7753634755040557\n",
      "5.287466591512653\n",
      "4.446333492305917\n",
      "4.345585713923817\n",
      "4.011985088737918\n",
      "4.102720104472738\n"
     ]
    }
   ],
   "source": [
    "print(np.mean(L1listDW))\n",
    "print(np.mean(L1listN))\n",
    "print(np.mean(L1listL))\n",
    "print(np.mean( L1listM))\n",
    "print(np.mean( L1listR))\n",
    "print(np.mean( L1listRNN))\n",
    "print(np.mean( L1listLSTM  ))"
   ]
  },
  {
   "cell_type": "code",
   "execution_count": 42,
   "metadata": {},
   "outputs": [
    {
     "name": "stdout",
     "output_type": "stream",
     "text": [
      "0.20745088617503185\n",
      "0.20121645815150577\n",
      "0.6374062749276893\n",
      "0.1602289587717378\n",
      "0.36314516046061146\n",
      "0.25413244068493607\n",
      "0.20345234930054348\n"
     ]
    }
   ],
   "source": [
    "print(np.std(L1listDW)/np.sqrt(pred_size))\n",
    "print(np.std(L1listN)/np.sqrt(pred_size))\n",
    "print(np.std(L1listL)/np.sqrt(pred_size))\n",
    "print(np.std(L1listM)/np.sqrt(pred_size))\n",
    "print(np.std(L1listR)/np.sqrt(pred_size))\n",
    "print(np.std(L1listRNN)/np.sqrt(pred_size))\n",
    "print(np.std(L1listLSTM)/np.sqrt(pred_size))"
   ]
  },
  {
   "cell_type": "code",
   "execution_count": 43,
   "metadata": {},
   "outputs": [
    {
     "name": "stdout",
     "output_type": "stream",
     "text": [
      "-1.9114898205042354\n",
      "-7.486006023777659\n"
     ]
    }
   ],
   "source": [
    "#  paired 2-sample t-test for L1 norm\n",
    "\n",
    "print(np.mean(L1listDW-L1listRNN)/(np.std(L1listDW-L1listRNN)/np.sqrt(pred_size)))\n",
    "print(np.mean(L1listDW-L1listLSTM)/(np.std(L1listDW-L1listLSTM)/np.sqrt(pred_size)))"
   ]
  },
  {
   "cell_type": "code",
   "execution_count": 44,
   "metadata": {},
   "outputs": [],
   "source": [
    "L2listDW = np.array(in9[\"predErrorDW\"])\n",
    "L2listN = np.array(in9[\"predErrorN\"])\n",
    "L2listL = np.array(in9[\"predErrorL\"])\n",
    "L2listM = np.array(in9[\"predErrorM\"])\n",
    "L2listR = np.array(in9[\"predErrorR\"])\n",
    "L2listRNN = np.array(in10[\"predErrorRNN1\"])\n",
    "L2listLSTM = np.array(in11[\"predErrorLSTM1\"])"
   ]
  },
  {
   "cell_type": "code",
   "execution_count": 45,
   "metadata": {},
   "outputs": [
    {
     "name": "stdout",
     "output_type": "stream",
     "text": [
      "-1.6291619806377236\n",
      "-5.8283748344778425\n"
     ]
    }
   ],
   "source": [
    "#  paired 2-sample t-test for L2 norm\n",
    "\n",
    "print(np.mean(L2listDW-L2listRNN)/(np.std(L2listDW-L2listRNN)/np.sqrt(pred_size)))\n",
    "print(np.mean(L2listDW-L2listLSTM)/(np.std(L2listDW-L2listLSTM)/np.sqrt(pred_size)))"
   ]
  },
  {
   "cell_type": "code",
   "execution_count": 47,
   "metadata": {},
   "outputs": [],
   "source": [
    "LlistDWLinf = np.array(in9[\"predErrorDWLinf\"])\n",
    "LlistNLinf = np.array(in9[\"predErrorNLinf\"])\n",
    "LlistLLinf = np.array(in9[\"predErrorLLinf\"])\n",
    "LlistMLinf = np.array(in9[\"predErrorMLinf\"])\n",
    "LlistRLinf = np.array(in9[\"predErrorRLinf\"])\n",
    "LlistRNNLinf = np.array(in10[\"predErrorRNN1Linf\"])\n",
    "LlistLSTMLinf = np.array(in11[\"predErrorLSTM1Linf\"])"
   ]
  },
  {
   "cell_type": "code",
   "execution_count": 48,
   "metadata": {},
   "outputs": [
    {
     "name": "stdout",
     "output_type": "stream",
     "text": [
      "-1.0930554336882756\n",
      "-2.170804790230455\n"
     ]
    }
   ],
   "source": [
    "#  paired 2-sample t-test for Linf norm\n",
    "\n",
    "print(np.mean(LlistDWLinf-LlistRNNLinf)/(np.std(LlistDWLinf-LlistRNNLinf)/np.sqrt(pred_size)))\n",
    "print(np.mean(LlistDWLinf-LlistLSTMLinf)/(np.std(LlistDWLinf-LlistLSTMLinf)/np.sqrt(pred_size)))"
   ]
  },
  {
   "cell_type": "code",
   "execution_count": null,
   "metadata": {},
   "outputs": [],
   "source": []
  }
 ],
 "metadata": {
  "kernelspec": {
   "display_name": "Python 3",
   "language": "python",
   "name": "python3"
  },
  "language_info": {
   "codemirror_mode": {
    "name": "ipython",
    "version": 3
   },
   "file_extension": ".py",
   "mimetype": "text/x-python",
   "name": "python",
   "nbconvert_exporter": "python",
   "pygments_lexer": "ipython3",
   "version": "3.6.5"
  }
 },
 "nbformat": 4,
 "nbformat_minor": 2
}
