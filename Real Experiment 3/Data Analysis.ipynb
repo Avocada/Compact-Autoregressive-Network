{
 "cells": [
  {
   "cell_type": "code",
   "execution_count": 9,
   "metadata": {},
   "outputs": [],
   "source": [
    "import pandas as pd \n",
    "import torch\n",
    "import numpy as np\n",
    "from sklearn.preprocessing import MinMaxScaler\n",
    "import torch.nn as nn\n",
    "import torch.nn.functional as F\n",
    "import math\n",
    "from scipy.linalg import svd\n",
    "from torch.utils.data import Dataset, DataLoader\n",
    "from numpy import linalg as LA\n",
    "from time import perf_counter \n",
    "from torch.autograd import Variable\n",
    "import torch.optim as optim\n",
    "import matplotlib.pyplot as plt\n",
    "\n",
    "dfP = pd.read_csv(\"deseason.csv\") \n",
    "### \"Data preprocessing\n",
    "df = np.array(dfP)[0:301,0:50]\n",
    "### \"Data preprocessing\n",
    "scaler = MinMaxScaler(feature_range=(0, 1))\n",
    "df = scaler.fit_transform(df)"
   ]
  },
  {
   "cell_type": "code",
   "execution_count": 10,
   "metadata": {},
   "outputs": [],
   "source": [
    "p = 30\n",
    "N = 50\n",
    "Smp_size = 300-p"
   ]
  },
  {
   "cell_type": "code",
   "execution_count": 11,
   "metadata": {},
   "outputs": [],
   "source": [
    "### \"Generate Linear Time Series Inputs and Targetted Output\n",
    "# return large transition Matrix A\n",
    "def kronecker(A, B):\n",
    "    return torch.ger(A.view(-1), B.view(-1)).reshape(*(A.size() + B.size())).permute([0, 2, 1, 3]).reshape(A.size(0)*B.size(0),A.size(1)*B.size(1))\n",
    "\n",
    "### \" F-norm of A\n",
    "class L2LossFun(nn.Module):\n",
    "    \n",
    "    def __init__(self):\n",
    "        super(L2LossFun, self).__init__()\n",
    "    def forward(self, A_Est, A_True):\n",
    "        gap = math.sqrt(torch.sum((A_Est - A_True)**2))\n",
    "        return gap\n",
    "\n",
    "class genA_true:\n",
    "    \n",
    "    def genA(r1, r2, r3, p, N):\n",
    "        \n",
    "        def genU(x, y, r, trans):\n",
    "            # x, y-stands for the size of the random matrix\n",
    "            # r stands for the numbers of dimensions to keep\n",
    "            # trans is a bool to judge whether to transpose or not\n",
    "            URM = torch.randn(x, y)\n",
    "            U, s, VT = svd(URM)\n",
    "            if trans == True:\n",
    "                Us = torch.tensor(np.transpose(U[:,:r]))\n",
    "            else:\n",
    "                Us = torch.tensor(U[:,:r])\n",
    "            return Us\n",
    "\n",
    "        G1 =  F.normalize(torch.randn(r1, r2*r3), p=2, dim=0)*0.9 # norm of G is fixed to be 0.95 -> l2 operator norm\n",
    "        #G1 =  (F.normalize(torch.randn(r1*r2*r3), p=2, dim=0)*0.95).view(r1, r2*r3) # norm of G is fixed to be 0.95 -> Frobenius norm\n",
    "        U1 = genU(N, N, r1, False)\n",
    "        U2T = genU(N, N, r2, True)\n",
    "        U3T = genU(p, p, r3, True)\n",
    "        A_dim1 = torch.mm(torch.mm(U1, G1), kronecker(U3T,U2T))\n",
    "        A_dim2 = torch.eye(N*p)[:N*(p-1),:]\n",
    "        A = torch.cat((A_dim1, A_dim2), dim=0)\n",
    "        return A\n",
    "    \n",
    "def rearrangeG(K):\n",
    "    K = K.permute(1,0)\n",
    "    i = j = 0\n",
    "    for j in range(r3):\n",
    "            for i in range(r2):\n",
    "                if i == 0 and j == 0:\n",
    "                    tmp = K[:1,:]\n",
    "                else:\n",
    "                    tmp = torch.cat([tmp, K[(r3*i+j):(r3*i+1+j),:]], dim = 0)   \n",
    "    tmp = tmp.permute(1,0)\n",
    "    return(tmp)\n",
    "\n",
    "def Param_Matrix(net, p, N):\n",
    "    \n",
    "    U2T = torch.squeeze(net.conv1.weight).view(r2, N)\n",
    "    U3T = torch.squeeze(net.conv2.weight).view(r3, p)\n",
    "    G1 = rearrangeG(net.fc1.weight)\n",
    "    U1 = net.fc2.weight\n",
    "    A = torch.mm(torch.mm(U1, G1), kronecker(U3T,U2T))\n",
    "    return A\n",
    "\n",
    "def Param_MatrixR(net):\n",
    "\n",
    "    A = torch.mm(net.fc2.weight,net.fc1.weight)\n",
    "    return A"
   ]
  },
  {
   "cell_type": "code",
   "execution_count": 12,
   "metadata": {},
   "outputs": [],
   "source": [
    "### \"We can use our method to generate RandomDataset\n",
    "# For our linear settings burnt in is needed\n",
    "class RealDataset(Dataset):\n",
    "    \n",
    "    def __init__(self, p, N, Smp_size, df):\n",
    "        self.X = []\n",
    "        self.y = []\n",
    "        for i in range(Smp_size):\n",
    "            if i == 0:\n",
    "                input_TS = torch.tensor(df[ [29,28,27,26,25,24,23,22,21,20,19,18,17,16,15,14,13,12,11,10,9,8,7,6,5,4,3,2,1,0] , : ]).permute(1,0).view(1,1,N,p) #change according to p\n",
    "                self.X.append(torch.squeeze(input_TS.view(1,1,N,p), dim = 0))\n",
    "                output_TS = torch.squeeze(torch.tensor(df[ p:(p+1) , : ]).permute(1,0).view(1,1,N,1))\n",
    "                self.y.append(output_TS[:N])  \n",
    "            else:\n",
    "                input_TS = torch.cat([self.y[i-1].view(1,1,N,1), input_TS], dim = 3)\n",
    "                self.X.append(torch.squeeze(input_TS[:,:,:N,:p], dim = 0))\n",
    "                out_tmp = torch.squeeze(torch.tensor(df[ (i+p):(i+p+1) , : ]).permute(1,0).view(1,1,N,1))\n",
    "                self.y.append(out_tmp[:N])\n",
    "                \n",
    "    def __getitem__(self, idx):\n",
    "        return self.X[idx], self.y[idx]\n",
    "    \n",
    "    def __len__(self):\n",
    "        return len(self.X)"
   ]
  },
  {
   "cell_type": "code",
   "execution_count": 13,
   "metadata": {},
   "outputs": [
    {
     "name": "stdout",
     "output_type": "stream",
     "text": [
      "PredError for LS is 10926.814357350453.\n",
      "tensor([[-92.0000,  76.0000,  -8.0000,  ...,  44.0000,  40.0000,  32.0000],\n",
      "        [ 24.5000,  -3.5000,  15.5000,  ...,  13.0000,  -7.0000,  12.5000],\n",
      "        [  4.0000, -14.0000, -11.0000,  ...,  -9.0000, -28.0000, -26.0000],\n",
      "        ...,\n",
      "        [ -1.5000, -12.5000,  -2.0000,  ...,   2.5000, -10.5000,  -6.0000],\n",
      "        [ -9.5000,   9.0000,  -0.5000,  ...,  -5.5000,  17.5000,   5.5000],\n",
      "        [-58.0000,  24.0000, -14.0000,  ..., -40.0000,  28.0000,  -2.0000]],\n",
      "       dtype=torch.float64)\n"
     ]
    },
    {
     "name": "stderr",
     "output_type": "stream",
     "text": [
      "/Users/amy/.virtualenvs/dl4cv/lib/python3.6/site-packages/ipykernel_launcher.py:24: UserWarning: To copy construct from a tensor, it is recommended to use sourceTensor.clone().detach() or sourceTensor.clone().detach().requires_grad_(True), rather than torch.tensor(sourceTensor).\n",
      "/Users/amy/.virtualenvs/dl4cv/lib/python3.6/site-packages/ipykernel_launcher.py:25: UserWarning: To copy construct from a tensor, it is recommended to use sourceTensor.clone().detach() or sourceTensor.clone().detach().requires_grad_(True), rather than torch.tensor(sourceTensor).\n"
     ]
    }
   ],
   "source": [
    "### \"\" LS method\n",
    "distance = L2LossFun()\n",
    "criterion = nn.MSELoss()\n",
    "    \n",
    "dsT = RealDataset(p=p, N=N, Smp_size=Smp_size, df=df[:300,])\n",
    "dsF = RealDataset(p=p, N=N, Smp_size=Smp_size, df=df[1:301,])\n",
    "X_F,y_F = dsF[Smp_size-1]\n",
    "X_F = X_F.view(1,1,N,p)\n",
    "ds = DataLoader(dsT, batch_size=Smp_size, shuffle=False)\n",
    "    \n",
    "for ix, (_x, _y) in enumerate(ds):\n",
    "        \n",
    "    X = _x.permute(0, 1, 3, 2).reshape(Smp_size, 1, p*N)\n",
    "    X = torch.squeeze(X.permute(1, 0, 2))\n",
    "    X_T = torch.transpose(X, 0, 1)\n",
    "    XTX = torch.mm(X_T, X)\n",
    "    XTX_Inv = torch.inverse(XTX)\n",
    "    Y = _y\n",
    "    A_EstLS = torch.mm(XTX_Inv, torch.mm(X_T, Y))\n",
    "    Yhat = torch.mm(X, A_EstLS)\n",
    "    lossLS = criterion(Y, Yhat)\n",
    "\n",
    "X_F = Variable(X_F).float()\n",
    "y_F = torch.tensor(Variable(y_F).float())\n",
    "y_predLS = torch.squeeze(torch.mm(torch.tensor(X_F).view(1,N*p), A_EstLS.float()))\n",
    "predErrorLS = distance(y_predLS, y_F)\n",
    "print(\"PredError for LS is {}.\".format(predErrorLS))\n",
    "print(A_EstLS)\n"
   ]
  },
  {
   "cell_type": "code",
   "execution_count": 14,
   "metadata": {},
   "outputs": [],
   "source": [
    "U, s, VT = svd(A_EstLS)"
   ]
  },
  {
   "cell_type": "code",
   "execution_count": 15,
   "metadata": {},
   "outputs": [
    {
     "name": "stdout",
     "output_type": "stream",
     "text": [
      "[10886.4037821   8061.25360648  1222.99894216  1022.14804481\n",
      "   989.9253821    954.58002252   945.95928318   921.06797778\n",
      "   896.11114436   882.52885849   871.80965375   857.61746807\n",
      "   849.05482625   830.12211729   823.00052646   816.36369916\n",
      "   798.39697063   793.35025422   785.16270301   767.9115743\n",
      "   757.20096677   754.19452151   752.2641915    735.37616728\n",
      "   726.95986884   721.33801042   716.79184652   705.72325401\n",
      "   700.33891853   694.10704728   689.13152586   681.3350794\n",
      "   658.28019324   653.51172377   644.2080339    636.39298839\n",
      "   627.39051476   619.47233278   615.37040411   604.02296123\n",
      "   594.28879936   591.1630555    576.26438928   573.63928171\n",
      "   550.2481103    537.62861203   521.76614076   503.01611024\n",
      "   489.18895742   415.7811506 ]\n"
     ]
    },
    {
     "data": {
      "text/plain": [
       "[<matplotlib.lines.Line2D at 0x138479c18>]"
      ]
     },
     "execution_count": 15,
     "metadata": {},
     "output_type": "execute_result"
    },
    {
     "data": {
      "image/png": "[encoded data removed]",
      "text/plain": [
       "<Figure size 432x288 with 1 Axes>"
      ]
     },
     "metadata": {
      "needs_background": "light"
     },
     "output_type": "display_data"
    }
   ],
   "source": [
    "print(s)\n",
    "plt.plot(s)"
   ]
  },
  {
   "cell_type": "code",
   "execution_count": 16,
   "metadata": {},
   "outputs": [],
   "source": [
    "A = A_EstLS.reshape(p,N,N)"
   ]
  },
  {
   "cell_type": "code",
   "execution_count": 17,
   "metadata": {},
   "outputs": [],
   "source": [
    "A2 = A.permute(0,2,1).reshape(-1,N)\n",
    "A3 = A.permute(1,2,0).reshape(-1,p)\n",
    "U2, s2, VT2 = svd(A2)\n",
    "U3, s3, VT3 = svd(A3)"
   ]
  },
  {
   "cell_type": "code",
   "execution_count": 18,
   "metadata": {},
   "outputs": [
    {
     "name": "stdout",
     "output_type": "stream",
     "text": [
      "[4255.24141453 4093.54478363 3751.10625349 3317.24575694 3148.87611127\n",
      " 2985.30042538 2951.48190753 2808.87636798 2806.19699692 2678.07234767\n",
      " 2641.05904235 2507.74888429 2495.65457801 2399.6628868  2303.54822824\n",
      " 2222.67554399 2192.78153126 2055.34758505 2017.97760791 1998.13333325\n",
      " 1928.10352496 1799.37601208 1770.89623614 1731.89714427 1641.35391179\n",
      " 1569.85761907 1542.27872618 1465.1892733  1407.2768075  1391.75673112\n",
      " 1375.79677679 1331.98764804 1304.42533978 1271.94319163 1226.13021923\n",
      " 1215.53668439 1115.50239323 1064.45265975 1009.11141716  977.74259116\n",
      "  946.55157057  897.18293367  857.8645149   839.990732    804.51341665\n",
      "  766.45626591  750.27507738  708.49258393  676.31984079  610.0429444 ]\n",
      "[4495.94817557 4125.32855926 3731.67921379 3481.46774552 3404.68553076\n",
      " 3293.06483799 3225.35830005 3150.43469496 2923.27424385 2831.15462501\n",
      " 2726.92483692 2690.33202712 2546.64712311 2499.73180385 2424.36279059\n",
      " 2318.62802209 2243.68520952 2225.64135132 2182.69070121 2096.78266159\n",
      " 1990.36854863 1981.60357201 1902.60794418 1822.3489264  1765.63360684\n",
      " 1672.96676508 1597.56851712 1561.65273007 1521.44852863 1351.86516223]\n"
     ]
    },
    {
     "data": {
      "text/plain": [
       "[<matplotlib.lines.Line2D at 0x13896b978>]"
      ]
     },
     "execution_count": 18,
     "metadata": {},
     "output_type": "execute_result"
    },
    {
     "data": {
      "image/png": "[encoded data removed]",
      "text/plain": [
       "<Figure size 432x288 with 1 Axes>"
      ]
     },
     "metadata": {
      "needs_background": "light"
     },
     "output_type": "display_data"
    }
   ],
   "source": [
    "print(s2)\n",
    "plt.plot(s2)\n",
    "print(s3)\n",
    "plt.plot(s3)"
   ]
  },
  {
   "cell_type": "code",
   "execution_count": null,
   "metadata": {},
   "outputs": [],
   "source": []
  }
 ],
 "metadata": {
  "kernelspec": {
   "display_name": "Python 3",
   "language": "python",
   "name": "python3"
  },
  "language_info": {
   "codemirror_mode": {
    "name": "ipython",
    "version": 3
   },
   "file_extension": ".py",
   "mimetype": "text/x-python",
   "name": "python",
   "nbconvert_exporter": "python",
   "pygments_lexer": "ipython3",
   "version": "3.6.5"
  }
 },
 "nbformat": 4,
 "nbformat_minor": 2
}
