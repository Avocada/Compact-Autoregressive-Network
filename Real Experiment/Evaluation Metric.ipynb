{
 "cells": [
  {
   "cell_type": "code",
   "execution_count": 59,
   "metadata": {},
   "outputs": [],
   "source": [
    "import numpy as np\n",
    "import torch"
   ]
  },
  {
   "cell_type": "code",
   "execution_count": 60,
   "metadata": {},
   "outputs": [],
   "source": [
    "def rmse(a,b):\n",
    "    return np.sqrt(np.mean((a-b)**2))\n",
    "def mape(a,b):\n",
    "    return np.mean(np.abs(np.multiply(b-a, np.reciprocal(b,-1))))\n",
    "def mae(a,b):\n",
    "    return np.mean(np.abs(a-b))"
   ]
  },
  {
   "cell_type": "code",
   "execution_count": 61,
   "metadata": {},
   "outputs": [],
   "source": [
    "in1 = torch.load(\"Real_100s.py\")[\"y_true\"]\n",
    "in2 = torch.load(\"Real_100DWNs.py\")[\"LTRDW_pred\"]\n",
    "in3 = torch.load(\"Real_100DWNs.py\")[\"LTRN_pred\"]\n",
    "in4 = torch.load(\"Real_100s.py\")[\"LTRL_pred\"]\n",
    "in5 = torch.load(\"Real_100s.py\")[\"LTRM_pred\"]\n",
    "in6 = torch.load(\"Real_100s.py\")[\"LTRR_pred\"]\n",
    "in7 = torch.load(\"Real_100RNN1s.py\")[\"LTRRNN1_pred\"]\n",
    "in8 = torch.load(\"Real_100RNN2s.py\")[\"LTRRNN2_pred\"]\n",
    "in9 = torch.load(\"Real_100RNN3s.py\")[\"LTRRNN3_pred\"]\n",
    "in10 = torch.load(\"Real_100RNN4s.py\")[\"LTRRNN4_pred\"]\n",
    "in11 = torch.load(\"Real_100RNN5s.py\")[\"LTRRNN5_pred\"]\n",
    "in12 = torch.load(\"Real_100LSTM1s.py\",map_location=torch.device('cpu'))[\"LTRLSTM4_pred\"]\n",
    "in13 = torch.load(\"Real_100LSTM2s.py\",map_location=torch.device('cpu'))[\"LTRLSTM2_pred\"]"
   ]
  },
  {
   "cell_type": "code",
   "execution_count": 62,
   "metadata": {},
   "outputs": [],
   "source": [
    "y_true = in1[0].view(1,-1).float()\n",
    "for i in range(2,len(in1),2):\n",
    "    y_true = torch.cat([y_true, in1[i].view(1,-1).float()],dim=0)\n",
    "y_true = np.array(y_true.detach())\n",
    "LTRDW = in2[0].view(1,-1)\n",
    "for i in range(1,len(in2)):\n",
    "    LTRDW = torch.cat([LTRDW, in2[i].view(1,-1)],dim=0)\n",
    "LTRDW = np.array(LTRDW.detach())\n",
    "LTRN = in3[0].view(1,-1)\n",
    "for i in range(1,len(in3)):\n",
    "    LTRN = torch.cat([LTRN, in3[i].view(1,-1)],dim=0)\n",
    "LTRN = np.array(LTRN.detach())\n",
    "LTRL = in4[0].view(1,-1)\n",
    "for i in range(1,len(in4)):\n",
    "    LTRL = torch.cat([LTRL, in4[i].view(1,-1)],dim=0)\n",
    "LTRL = np.array(LTRL.detach())\n",
    "LTRM = in5[0].view(1,-1)\n",
    "for i in range(1,len(in5)):\n",
    "    LTRM = torch.cat([LTRM, in5[i].view(1,-1)],dim=0)\n",
    "LTRM = np.array(LTRM.detach())\n",
    "LTRR = in6[0].view(1,-1)\n",
    "for i in range(1,len(in6)):\n",
    "    LTRR = torch.cat([LTRR, in6[i].view(1,-1)],dim=0)\n",
    "LTRR = np.array(LTRR.detach())\n",
    "LTRRNN1 = in7[0].view(1,-1)\n",
    "for i in range(1,len(in7)):\n",
    "    LTRRNN1 = torch.cat([LTRRNN1, in7[i].view(1,-1)],dim=0)\n",
    "LTRRNN1 = np.array(LTRRNN1.detach())\n",
    "LTRRNN2 = in8[0].view(1,-1)\n",
    "for i in range(1,len(in8)):\n",
    "    LTRRNN2 = torch.cat([LTRRNN2, in8[i].view(1,-1)],dim=0)\n",
    "LTRRNN2 = np.array(LTRRNN2.detach())\n",
    "LTRRNN3 = in9[0].view(1,-1)\n",
    "for i in range(1,len(in9)):\n",
    "    LTRRNN3 = torch.cat([LTRRNN3, in9[i].view(1,-1)],dim=0)\n",
    "LTRRNN3 = np.array(LTRRNN3.detach())\n",
    "LTRRNN4 = in10[0].view(1,-1)\n",
    "for i in range(1,len(in10)):\n",
    "    LTRRNN4 = torch.cat([LTRRNN4, in10[i].view(1,-1)],dim=0)\n",
    "LTRRNN4 = np.array(LTRRNN4.detach())\n",
    "LTRRNN5 = in11[0].view(1,-1)\n",
    "for i in range(1,len(in11)):\n",
    "    LTRRNN5 = torch.cat([LTRRNN5, in11[i].view(1,-1)],dim=0)\n",
    "LTRRNN5= np.array(LTRRNN5.detach())\n",
    "LTRLSTM = in12[0].view(1,-1)\n",
    "for i in range(1,len(in12)):\n",
    "    LTRLSTM = torch.cat([LTRLSTM, in12[i].view(1,-1)],dim=0)\n",
    "LTRLSTM= np.array(LTRLSTM.detach())\n",
    "LTRLSTM2 = in13[0].view(1,-1)\n",
    "for i in range(1,len(in13)):\n",
    "    LTRLSTM2 = torch.cat([LTRLSTM2, in13[i].view(1,-1)],dim=0)\n",
    "LTRLSTM2= np.array(LTRLSTM2.detach())"
   ]
  },
  {
   "cell_type": "code",
   "execution_count": 10,
   "metadata": {},
   "outputs": [
    {
     "name": "stdout",
     "output_type": "stream",
     "text": [
      "0.8958478 0.6758161\n",
      "0.91036206 0.6827507\n",
      "0.9292074 0.6857156\n",
      "1.88669 1.3803735\n",
      "1.3461679 1.0182753\n",
      "0.9217124 0.7063558\n",
      "1.0003363 0.757502\n",
      "1.072025 0.8157349\n",
      "1.1025118 0.8437971\n",
      "1.2214779 0.9442738\n",
      "0.98155886 0.7369989\n",
      "1.1662642 0.89271194\n"
     ]
    }
   ],
   "source": [
    "print(rmse(LTRDW,y_true),mae(LTRDW,y_true))\n",
    "print(rmse(LTRN,y_true),mae(LTRN,y_true))\n",
    "print(rmse(LTRL,y_true),mae(LTRL,y_true))\n",
    "print(rmse(LTRM,y_true),mae(LTRM,y_true))\n",
    "print(rmse(LTRR,y_true),mae(LTRR,y_true))\n",
    "print(rmse(LTRRNN1,y_true),mae(LTRRNN1,y_true))\n",
    "print(rmse(LTRRNN2,y_true),mae(LTRRNN2,y_true))\n",
    "print(rmse(LTRRNN3,y_true),mae(LTRRNN3,y_true))\n",
    "print(rmse(LTRRNN4,y_true),mae(LTRRNN4,y_true))\n",
    "print(rmse(LTRRNN5,y_true),mae(LTRRNN5,y_true))\n",
    "print(rmse(LTRLSTM,y_true),mae(LTRLSTM,y_true))\n",
    "print(rmse(LTRLSTM2,y_true),mae(LTRLSTM2,y_true))"
   ]
  },
  {
   "cell_type": "code",
   "execution_count": 11,
   "metadata": {},
   "outputs": [],
   "source": [
    "### Plot the time plot\n",
    "### Formatting\n",
    "import matplotlib\n",
    "import matplotlib.pyplot as plt\n",
    "from matplotlib.pyplot import figure\n",
    "\n",
    "import pandas as pd \n",
    "import torch\n",
    "import numpy as np\n",
    "\n",
    "dfRaw = pd.read_csv(\"macro40.csv\") \n",
    "### \"Data preprocessing\n",
    "dfP = dfRaw.drop(\"Date\",axis=1) # only in the first time\n",
    "df = dfP.sub(dfP.mean(axis=0), axis=1).div(dfP.std(0),axis=1)\n",
    "yPrevious = df.iloc[:104,:].values"
   ]
  },
  {
   "cell_type": "code",
   "execution_count": 12,
   "metadata": {},
   "outputs": [],
   "source": [
    "y = np.concatenate((yPrevious,y_true))"
   ]
  },
  {
   "cell_type": "code",
   "execution_count": 13,
   "metadata": {},
   "outputs": [
    {
     "data": {
      "image/png": "[encoded data removed]",
      "text/plain": [
       "<Figure size 576x288 with 1 Axes>"
      ]
     },
     "metadata": {
      "needs_background": "light"
     },
     "output_type": "display_data"
    }
   ],
   "source": [
    "figure(figsize=(8, 4))\n",
    "matplotlib.rc('text', usetex = True)\n",
    "matplotlib.rc('font', **{'family' : \"sans-serif\"})\n",
    "params= {'text.latex.preamble' : [r'\\usepackage{amsmath}']}\n",
    "plt.rcParams.update(params)\n",
    "\n",
    "SMALL_SIZE = 12\n",
    "MEDIUM_SIZE = 12\n",
    "BIGGER_SIZE = 14\n",
    "plt.rc('font', size=SMALL_SIZE)          # controls default text sizes\n",
    "plt.rc('axes', titlesize=SMALL_SIZE)     # fontsize of the axes title\n",
    "plt.rc('axes', labelsize=BIGGER_SIZE)    # fontsize of the x and y labels\n",
    "plt.rc('xtick', labelsize=MEDIUM_SIZE)    # fontsize of the tick labels\n",
    "plt.rc('ytick', labelsize=MEDIUM_SIZE)    # fontsize of the tick labels\n",
    "plt.rc('legend', fontsize=SMALL_SIZE)    # legend fontsize\n",
    "\n",
    "#plt.subplot(2, 1, 1) \n",
    "#plt.plot(np.array(range(1,91)),y_true[:,22], color = \"black\")\n",
    "#plt.plot(np.array(range(1,91)),LTRDW[:,22], linestyle='-',color = \"green\")\n",
    "#plt.plot(np.array(range(1,91)),LTRRNN1[:,22],linestyle='-.',color = \"blue\")\n",
    "#plt.ylabel(r\"Forecast Value\")\n",
    "#plt.subplot(2, 1, 2) \n",
    "plt.plot(np.array(range(1,91)),y_true[:,20], linestyle='-', color = \"black\")\n",
    "plt.plot(np.array(range(1,91)),LTRDW[:,20], linestyle='--',color = \"green\")\n",
    "plt.plot(np.array(range(1,91)),LTRRNN1[:,20],linestyle='-.',color = \"blue\")\n",
    "plt.xlabel(r\"${T}$\")\n",
    "plt.ylabel(r\"Forecast Value\")\n",
    "#plt.gca().legend((r'True',r'LTR-2',r'RNN',r'LSTM'))\n",
    "plt.savefig('Real2.png')\n"
   ]
  },
  {
   "cell_type": "code",
   "execution_count": 81,
   "metadata": {},
   "outputs": [],
   "source": [
    "#Performing t-test for L2, L1 norm"
   ]
  },
  {
   "cell_type": "code",
   "execution_count": 106,
   "metadata": {},
   "outputs": [],
   "source": [
    "in14 = torch.load(\"Real_100DWNs.py\")\n",
    "in15 = torch.load(\"Real_100s.py\")\n",
    "in16 = torch.load(\"Real_100RNN1s.py\")\n",
    "in17 = torch.load(\"Real_100LSTM1s.py\",map_location=torch.device('cpu'))\n",
    "pred_size = len(in14[\"predErrorDW\"])"
   ]
  },
  {
   "cell_type": "code",
   "execution_count": 107,
   "metadata": {},
   "outputs": [
    {
     "name": "stdout",
     "output_type": "stream",
     "text": [
      "0.17095822956857037\n",
      "0.19023339603179962\n",
      "0.2109154853439564\n",
      "0.45454015717154156\n",
      "0.34883860092749575\n",
      "0.1795333192461372\n",
      "0.2255881214685232\n"
     ]
    }
   ],
   "source": [
    "# std for L2 norm with sqrt N: stdL2/sqrt(90)\n",
    "print(np.std(in14[\"predErrorDW\"])/np.sqrt(pred_size))\n",
    "print(np.std(in14[\"predErrorN\"])/np.sqrt(pred_size))\n",
    "print(np.std(in15[\"predErrorL\"])/np.sqrt(pred_size))\n",
    "print(np.std(in15[\"predErrorM\"])/np.sqrt(pred_size))\n",
    "print(np.std(in15[\"predErrorR\"])/np.sqrt(pred_size))\n",
    "print(np.std(in16[\"predErrorRNN1\"])/np.sqrt(pred_size))\n",
    "print(np.std(in17[\"predErrorLSTM4\"])/np.sqrt(pred_size))"
   ]
  },
  {
   "cell_type": "code",
   "execution_count": 108,
   "metadata": {},
   "outputs": [
    {
     "name": "stdout",
     "output_type": "stream",
     "text": [
      "0.10656062943774548\n",
      "0.10821495785377078\n",
      "0.10970142733459139\n",
      "0.19923252503014377\n",
      "0.13728057827297088\n",
      "0.10260421068549953\n",
      "0.1125497699382576\n"
     ]
    }
   ],
   "source": [
    "print(np.std(in14[\"predErrorDWLinf\"])/np.sqrt(pred_size))\n",
    "print(np.std(in14[\"predErrorNLinf\"])/np.sqrt(pred_size))\n",
    "print(np.std(in15[\"predErrorLLinf\"])/np.sqrt(pred_size))\n",
    "print(np.std(in15[\"predErrorMLinf\"])/np.sqrt(pred_size))\n",
    "print(np.std(in15[\"predErrorRLinf\"])/np.sqrt(pred_size))\n",
    "print(np.std(in16[\"predErrorRNN1Linf\"])/np.sqrt(pred_size))\n",
    "print(np.std(in17[\"predErrorLSTM4Linf\"])/np.sqrt(pred_size))"
   ]
  },
  {
   "cell_type": "code",
   "execution_count": 109,
   "metadata": {},
   "outputs": [],
   "source": [
    "def L1norm(A, B):\n",
    "    gap = np.sum(abs(A - B))\n",
    "    return gap"
   ]
  },
  {
   "cell_type": "code",
   "execution_count": 110,
   "metadata": {},
   "outputs": [],
   "source": [
    "L1listDW = np.zeros(pred_size)\n",
    "L1listN = np.zeros(pred_size)\n",
    "L1listL = np.zeros(pred_size)\n",
    "L1listM = np.zeros(pred_size)\n",
    "L1listR = np.zeros(pred_size)\n",
    "L1listRNN = np.zeros(pred_size)\n",
    "L1listLSTM = np.zeros(pred_size)\n",
    "for i in range(pred_size):\n",
    "    L1listDW[i] = L1norm(LTRDW[i],y_true[i])\n",
    "    L1listN[i] = L1norm(LTRN[i],y_true[i])\n",
    "    L1listL[i] = L1norm(LTRL[i],y_true[i])\n",
    "    L1listM[i] = L1norm(LTRM[i],y_true[i])\n",
    "    L1listR[i] = L1norm(LTRR[i],y_true[i])\n",
    "    L1listRNN[i] = L1norm(LTRRNN1[i],y_true[i])\n",
    "    L1listLSTM[i] = L1norm(LTRLSTM[i],y_true[i])"
   ]
  },
  {
   "cell_type": "code",
   "execution_count": 111,
   "metadata": {},
   "outputs": [
    {
     "name": "stdout",
     "output_type": "stream",
     "text": [
      "27.032642957899306\n",
      "27.31002818213569\n",
      "27.428623538547093\n",
      "55.21493958367242\n",
      "40.73101047939724\n",
      "28.254231770833332\n",
      "29.479955641428628\n"
     ]
    }
   ],
   "source": [
    "print(np.mean(L1listDW))\n",
    "print(np.mean(L1listN))\n",
    "print(np.mean(L1listL))\n",
    "print(np.mean( L1listM))\n",
    "print(np.mean( L1listR))\n",
    "print(np.mean( L1listRNN))\n",
    "print(np.mean( L1listLSTM  ))"
   ]
  },
  {
   "cell_type": "code",
   "execution_count": 112,
   "metadata": {},
   "outputs": [
    {
     "name": "stdout",
     "output_type": "stream",
     "text": [
      "0.8425237632343727\n",
      "0.9400446636936663\n",
      "1.0870109371681178\n",
      "2.353498426241493\n",
      "1.874567475347652\n",
      "0.9298721689634859\n",
      "1.1693929985075215\n"
     ]
    }
   ],
   "source": [
    "print(np.std(L1listDW)/np.sqrt(pred_size))\n",
    "print(np.std(L1listN)/np.sqrt(pred_size))\n",
    "print(np.std(L1listL)/np.sqrt(pred_size))\n",
    "print(np.std(L1listM)/np.sqrt(pred_size))\n",
    "print(np.std(L1listR)/np.sqrt(pred_size))\n",
    "print(np.std(L1listRNN)/np.sqrt(pred_size))\n",
    "print(np.std(L1listLSTM)/np.sqrt(pred_size))"
   ]
  },
  {
   "cell_type": "code",
   "execution_count": 115,
   "metadata": {},
   "outputs": [
    {
     "name": "stdout",
     "output_type": "stream",
     "text": [
      "-1.1428226626143199\n",
      "-2.014034029772251\n"
     ]
    }
   ],
   "source": [
    "print(np.mean(L1listDW-L1listRNN1)/(np.std(L1listDW-L1listRNN1)/np.sqrt(pred_size)))\n",
    "print(np.mean(L1listDW-L1listLSTM)/(np.std(L1listDW-L1listLSTM)/np.sqrt(pred_size)))"
   ]
  },
  {
   "cell_type": "code",
   "execution_count": null,
   "metadata": {},
   "outputs": [],
   "source": [
    "# Paired 2-sample t-test"
   ]
  },
  {
   "cell_type": "code",
   "execution_count": 116,
   "metadata": {},
   "outputs": [],
   "source": [
    "L2listDW = np.array(in14[\"predErrorDW\"])\n",
    "L2listN = np.array(in14[\"predErrorN\"])\n",
    "L2listL = np.array(in15[\"predErrorL\"])\n",
    "L2listM = np.array(in15[\"predErrorM\"])\n",
    "L2listR = np.array(in15[\"predErrorR\"])\n",
    "L2listRNN = np.array(in16[\"predErrorRNN1\"])\n",
    "L2listLSTM = np.array(in17[\"predErrorLSTM4\"])"
   ]
  },
  {
   "cell_type": "code",
   "execution_count": 118,
   "metadata": {},
   "outputs": [
    {
     "name": "stdout",
     "output_type": "stream",
     "text": [
      "-0.8298281697526372\n",
      "-1.8644861561591437\n"
     ]
    }
   ],
   "source": [
    "print(np.mean(L2listDW-L2listRNN1)/(np.std(L2listDW-L2listRNN1)/np.sqrt(pred_size)))\n",
    "print(np.mean(L2listDW-L2listLSTM)/(np.std(L2listDW-L2listLSTM)/np.sqrt(pred_size)))"
   ]
  },
  {
   "cell_type": "code",
   "execution_count": 119,
   "metadata": {},
   "outputs": [],
   "source": [
    "LlistDWLinf = np.array(in14[\"predErrorDWLinf\"])\n",
    "LlistNLinf = np.array(in14[\"predErrorNLinf\"])\n",
    "LlistLLinf = np.array(in15[\"predErrorLLinf\"])\n",
    "LlistMLinf = np.array(in15[\"predErrorMLinf\"])\n",
    "LlistRLinf = np.array(in15[\"predErrorRLinf\"])\n",
    "LlistRNNLinf = np.array(in16[\"predErrorRNN1Linf\"])\n",
    "LlistLSTMLinf = np.array(in17[\"predErrorLSTM4Linf\"])"
   ]
  },
  {
   "cell_type": "code",
   "execution_count": 123,
   "metadata": {},
   "outputs": [
    {
     "name": "stdout",
     "output_type": "stream",
     "text": [
      "0.7722980746477998\n",
      "-1.1909638123120878\n"
     ]
    }
   ],
   "source": [
    "print(np.mean(LlistDWLinf-LlistRNN1Linf)/(np.std(LlistDWLinf-LlistRNN1Linf)/np.sqrt(pred_size)))\n",
    "print(np.mean(LlistDWLinf-LlistLSTMLinf)/(np.std(LlistDWLinf-LlistLSTMLinf)/np.sqrt(pred_size)))"
   ]
  },
  {
   "cell_type": "code",
   "execution_count": 127,
   "metadata": {},
   "outputs": [],
   "source": [
    "# Independent equal variance 2-sample t-test"
   ]
  },
  {
   "cell_type": "code",
   "execution_count": 128,
   "metadata": {},
   "outputs": [],
   "source": [
    "pool_data = np.concatenate((L2listDW,L2listRNN1))\n",
    "pool_data_LSTM = np.concatenate((L2listDW,L2listLSTM))"
   ]
  },
  {
   "cell_type": "code",
   "execution_count": 129,
   "metadata": {},
   "outputs": [
    {
     "name": "stdout",
     "output_type": "stream",
     "text": [
      "-0.5895909565550247\n",
      "-1.400603936114843\n"
     ]
    }
   ],
   "source": [
    "print((np.mean(L2listDW)-np.mean(L2listRNN1))/(np.std(pool_data)*np.sqrt(2/pred_size)))\n",
    "print((np.mean(L2listDW)-np.mean(L2listLSTM))/(np.std(pool_data_LSTM)*np.sqrt(2/pred_size)))"
   ]
  },
  {
   "cell_type": "code",
   "execution_count": null,
   "metadata": {},
   "outputs": [],
   "source": []
  }
 ],
 "metadata": {
  "kernelspec": {
   "display_name": "Python 3",
   "language": "python",
   "name": "python3"
  },
  "language_info": {
   "codemirror_mode": {
    "name": "ipython",
    "version": 3
   },
   "file_extension": ".py",
   "mimetype": "text/x-python",
   "name": "python",
   "nbconvert_exporter": "python",
   "pygments_lexer": "ipython3",
   "version": "3.6.5"
  }
 },
 "nbformat": 4,
 "nbformat_minor": 2
}
