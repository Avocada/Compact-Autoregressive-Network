{
 "cells": [
  {
   "cell_type": "code",
   "execution_count": 132,
   "metadata": {},
   "outputs": [],
   "source": [
    "import pandas as pd \n",
    "import torch\n",
    "import numpy as np\n",
    "from sklearn.preprocessing import MinMaxScaler\n",
    "import torch.nn as nn\n",
    "import torch.nn.functional as F\n",
    "import math\n",
    "from scipy.linalg import svd\n",
    "from torch.utils.data import Dataset, DataLoader\n",
    "from numpy import linalg as LA\n",
    "from time import perf_counter \n",
    "from torch.autograd import Variable\n",
    "import torch.optim as optim\n",
    "import matplotlib.pyplot as plt\n",
    "\n",
    "dfP = pd.read_csv(\"co2_327_45.csv\") \n",
    "### \"Data preprocessing\n",
    "df = np.array(dfP)\n",
    "### \"Data preprocessing\n",
    "scaler = MinMaxScaler(feature_range=(0, 1))\n",
    "df = scaler.fit_transform(df)"
   ]
  },
  {
   "cell_type": "code",
   "execution_count": 133,
   "metadata": {},
   "outputs": [],
   "source": [
    "p = 20\n",
    "N = 45\n",
    "Smp_size = 300-p"
   ]
  },
  {
   "cell_type": "code",
   "execution_count": 134,
   "metadata": {},
   "outputs": [],
   "source": [
    "### \"Generate Linear Time Series Inputs and Targetted Output\n",
    "# return large transition Matrix A\n",
    "def kronecker(A, B):\n",
    "    return torch.ger(A.view(-1), B.view(-1)).reshape(*(A.size() + B.size())).permute([0, 2, 1, 3]).reshape(A.size(0)*B.size(0),A.size(1)*B.size(1))\n",
    "\n",
    "### \" F-norm of A\n",
    "class L2LossFun(nn.Module):\n",
    "    \n",
    "    def __init__(self):\n",
    "        super(L2LossFun, self).__init__()\n",
    "    def forward(self, A_Est, A_True):\n",
    "        gap = math.sqrt(torch.sum((A_Est - A_True)**2))\n",
    "        return gap\n",
    "\n",
    "class genA_true:\n",
    "    \n",
    "    def genA(r1, r2, r3, p, N):\n",
    "        \n",
    "        def genU(x, y, r, trans):\n",
    "            # x, y-stands for the size of the random matrix\n",
    "            # r stands for the numbers of dimensions to keep\n",
    "            # trans is a bool to judge whether to transpose or not\n",
    "            URM = torch.randn(x, y)\n",
    "            U, s, VT = svd(URM)\n",
    "            if trans == True:\n",
    "                Us = torch.tensor(np.transpose(U[:,:r]))\n",
    "            else:\n",
    "                Us = torch.tensor(U[:,:r])\n",
    "            return Us\n",
    "\n",
    "        G1 =  F.normalize(torch.randn(r1, r2*r3), p=2, dim=0)*0.9 # norm of G is fixed to be 0.95 -> l2 operator norm\n",
    "        #G1 =  (F.normalize(torch.randn(r1*r2*r3), p=2, dim=0)*0.95).view(r1, r2*r3) # norm of G is fixed to be 0.95 -> Frobenius norm\n",
    "        U1 = genU(N, N, r1, False)\n",
    "        U2T = genU(N, N, r2, True)\n",
    "        U3T = genU(p, p, r3, True)\n",
    "        A_dim1 = torch.mm(torch.mm(U1, G1), kronecker(U3T,U2T))\n",
    "        A_dim2 = torch.eye(N*p)[:N*(p-1),:]\n",
    "        A = torch.cat((A_dim1, A_dim2), dim=0)\n",
    "        return A\n",
    "    \n",
    "def rearrangeG(K):\n",
    "    K = K.permute(1,0)\n",
    "    i = j = 0\n",
    "    for j in range(r3):\n",
    "            for i in range(r2):\n",
    "                if i == 0 and j == 0:\n",
    "                    tmp = K[:1,:]\n",
    "                else:\n",
    "                    tmp = torch.cat([tmp, K[(r3*i+j):(r3*i+1+j),:]], dim = 0)   \n",
    "    tmp = tmp.permute(1,0)\n",
    "    return(tmp)\n",
    "\n",
    "def Param_Matrix(net, p, N):\n",
    "    \n",
    "    U2T = torch.squeeze(net.conv1.weight).view(r2, N)\n",
    "    U3T = torch.squeeze(net.conv2.weight).view(r3, p)\n",
    "    G1 = rearrangeG(net.fc1.weight)\n",
    "    U1 = net.fc2.weight\n",
    "    A = torch.mm(torch.mm(U1, G1), kronecker(U3T,U2T))\n",
    "    return A\n",
    "\n",
    "def Param_MatrixR(net):\n",
    "\n",
    "    A = torch.mm(net.fc2.weight,net.fc1.weight)\n",
    "    return A"
   ]
  },
  {
   "cell_type": "code",
   "execution_count": 135,
   "metadata": {},
   "outputs": [],
   "source": [
    "### \"We can use our method to generate RandomDataset\n",
    "# For our linear settings burnt in is needed\n",
    "class RealDataset(Dataset):\n",
    "    \n",
    "    def __init__(self, p, N, Smp_size, df):\n",
    "        self.X = []\n",
    "        self.y = []\n",
    "        for i in range(Smp_size):\n",
    "            if i == 0:\n",
    "                input_TS = torch.tensor(df[ [19,18,17,16,15,14,13,12,11,10,9,8,7,6,5,4,3,2,1,0] , : ]).permute(1,0).view(1,1,N,p) #change according to p\n",
    "                self.X.append(torch.squeeze(input_TS.view(1,1,N,p), dim = 0))\n",
    "                output_TS = torch.squeeze(torch.tensor(df[ p:(p+1) , : ]).permute(1,0).view(1,1,N,1))\n",
    "                self.y.append(output_TS[:N])  \n",
    "            else:\n",
    "                input_TS = torch.cat([self.y[i-1].view(1,1,N,1), input_TS], dim = 3)\n",
    "                self.X.append(torch.squeeze(input_TS[:,:,:N,:p], dim = 0))\n",
    "                out_tmp = torch.squeeze(torch.tensor(df[ (i+p):(i+p+1) , : ]).permute(1,0).view(1,1,N,1))\n",
    "                self.y.append(out_tmp[:N])\n",
    "                \n",
    "    def __getitem__(self, idx):\n",
    "        return self.X[idx], self.y[idx]\n",
    "    \n",
    "    def __len__(self):\n",
    "        return len(self.X)"
   ]
  },
  {
   "cell_type": "code",
   "execution_count": 136,
   "metadata": {},
   "outputs": [
    {
     "name": "stdout",
     "output_type": "stream",
     "text": [
      "PredError for LS is 212.44742915895688.\n",
      "tensor([[-0.1875,  1.5000,  0.5625,  ..., -1.1875, -7.0625,  0.5625],\n",
      "        [-1.6250,  3.1250,  0.1250,  ..., -2.0625, -3.1875,  0.4375],\n",
      "        [-1.1016,  2.6641,  2.3555,  ..., -2.6875,  3.2188,  1.8438],\n",
      "        ...,\n",
      "        [ 2.0000, -0.0625,  1.6250,  ...,  1.9375,  2.8750,  0.0000],\n",
      "        [ 2.7500,  0.5000,  1.6250,  ...,  1.8750,  5.5000,  3.5000],\n",
      "        [ 1.3750, -0.7500,  1.5000,  ...,  0.2500,  1.0000,  1.3125]],\n",
      "       dtype=torch.float64)\n"
     ]
    },
    {
     "name": "stderr",
     "output_type": "stream",
     "text": [
      "/Users/amy/.virtualenvs/dl4cv/lib/python3.6/site-packages/ipykernel_launcher.py:24: UserWarning: To copy construct from a tensor, it is recommended to use sourceTensor.clone().detach() or sourceTensor.clone().detach().requires_grad_(True), rather than torch.tensor(sourceTensor).\n",
      "/Users/amy/.virtualenvs/dl4cv/lib/python3.6/site-packages/ipykernel_launcher.py:25: UserWarning: To copy construct from a tensor, it is recommended to use sourceTensor.clone().detach() or sourceTensor.clone().detach().requires_grad_(True), rather than torch.tensor(sourceTensor).\n"
     ]
    }
   ],
   "source": [
    "### \"\" LS method\n",
    "distance = L2LossFun()\n",
    "criterion = nn.MSELoss()\n",
    "    \n",
    "dsT = RealDataset(p=p, N=N, Smp_size=Smp_size, df=df[:300,])\n",
    "dsF = RealDataset(p=p, N=N, Smp_size=Smp_size, df=df[1:301,])\n",
    "X_F,y_F = dsF[Smp_size-1]\n",
    "X_F = X_F.view(1,1,N,p)\n",
    "ds = DataLoader(dsT, batch_size=Smp_size, shuffle=False)\n",
    "    \n",
    "for ix, (_x, _y) in enumerate(ds):\n",
    "        \n",
    "    X = _x.permute(0, 1, 3, 2).reshape(Smp_size, 1, p*N)\n",
    "    X = torch.squeeze(X.permute(1, 0, 2))\n",
    "    X_T = torch.transpose(X, 0, 1)\n",
    "    XTX = torch.mm(X_T, X)\n",
    "    XTX_Inv = torch.inverse(XTX)\n",
    "    Y = _y\n",
    "    A_EstLS = torch.mm(XTX_Inv, torch.mm(X_T, Y))\n",
    "    Yhat = torch.mm(X, A_EstLS)\n",
    "    lossLS = criterion(Y, Yhat)\n",
    "\n",
    "X_F = Variable(X_F).float()\n",
    "y_F = torch.tensor(Variable(y_F).float())\n",
    "y_predLS = torch.squeeze(torch.mm(torch.tensor(X_F).view(1,N*p), A_EstLS.float()))\n",
    "predErrorLS = distance(y_predLS, y_F)\n",
    "print(\"PredError for LS is {}.\".format(predErrorLS))\n",
    "print(A_EstLS)\n"
   ]
  },
  {
   "cell_type": "code",
   "execution_count": 137,
   "metadata": {},
   "outputs": [],
   "source": [
    "U, s, VT = svd(A_EstLS)"
   ]
  },
  {
   "cell_type": "code",
   "execution_count": 138,
   "metadata": {},
   "outputs": [
    {
     "name": "stdout",
     "output_type": "stream",
     "text": [
      "[307.03970293 254.79177526 127.45598641  81.29060876  43.16561569\n",
      "  32.65344115  29.00410038  25.90806708  24.6162473   23.57405875\n",
      "  22.0163018   21.30489193  21.12595348  20.25505345  20.13499624\n",
      "  19.25550892  19.14775536  18.74889847  18.51688539  18.12388473\n",
      "  17.89138807  17.75042873  17.49348975  16.75441972  16.61548164\n",
      "  16.52661906  16.16765536  16.11514886  15.809736    15.50261961\n",
      "  15.38168422  15.16132565  14.9316456   14.79492366  14.53616276\n",
      "  14.41900034  14.04483659  13.82905145  13.55137441  13.39877581\n",
      "  13.10943253  12.89407318  12.51371658  12.26619698  11.82105809]\n"
     ]
    },
    {
     "data": {
      "text/plain": [
       "[<matplotlib.lines.Line2D at 0x12b51c390>]"
      ]
     },
     "execution_count": 138,
     "metadata": {},
     "output_type": "execute_result"
    },
    {
     "data": {
      "image/png": "[encoded data removed]",
      "text/plain": [
       "<Figure size 432x288 with 1 Axes>"
      ]
     },
     "metadata": {
      "needs_background": "light"
     },
     "output_type": "display_data"
    }
   ],
   "source": [
    "print(s)\n",
    "plt.plot(s)"
   ]
  },
  {
   "cell_type": "code",
   "execution_count": 139,
   "metadata": {},
   "outputs": [],
   "source": [
    "A = A_EstLS.reshape(p,N,N)"
   ]
  },
  {
   "cell_type": "code",
   "execution_count": 140,
   "metadata": {},
   "outputs": [],
   "source": [
    "A2 = A.permute(0,2,1).reshape(-1,N)\n",
    "A3 = A.permute(1,2,0).reshape(-1,p)\n",
    "U2, s2, VT2 = svd(A2)\n",
    "U3, s3, VT3 = svd(A3)"
   ]
  },
  {
   "cell_type": "code",
   "execution_count": 141,
   "metadata": {},
   "outputs": [
    {
     "name": "stdout",
     "output_type": "stream",
     "text": [
      "[121.50324614 119.05933927 116.20162796 112.27476292 106.5218354\n",
      " 100.77499796  95.03339438  93.74951376  88.86502753  85.7490646\n",
      "  82.63354521  81.42166501  74.4560191   73.8803611   69.58166768\n",
      "  68.97858898  66.92786619  66.19265074  63.11476653  61.28344788\n",
      "  58.71038758  55.18927566  53.88973094  49.55172448  49.45961009\n",
      "  46.62580899  45.02588858  44.53633286  41.45327213  40.3419201\n",
      "  39.3743431   37.96666948  36.36378532  34.72102548  33.22579733\n",
      "  31.39412278  28.87382162  28.56905786  27.34290497  25.88073418\n",
      "  24.84968988  22.70852547  21.78876318  21.15954389  20.4084183 ]\n",
      "[141.22428409 128.83022117 125.39341113 117.4131024  116.07564585\n",
      " 110.38587995 109.12067764 104.68430168 100.80467051  98.3193522\n",
      "  92.78278943  89.57641694  86.68718918  82.60900765  80.98002654\n",
      "  79.72273596  75.64227834  70.42067075  65.71958834  62.99066936]\n"
     ]
    },
    {
     "data": {
      "text/plain": [
       "[<matplotlib.lines.Line2D at 0x12bdf0978>]"
      ]
     },
     "execution_count": 141,
     "metadata": {},
     "output_type": "execute_result"
    },
    {
     "data": {
      "image/png": "[encoded data removed]",
      "text/plain": [
       "<Figure size 432x288 with 1 Axes>"
      ]
     },
     "metadata": {
      "needs_background": "light"
     },
     "output_type": "display_data"
    }
   ],
   "source": [
    "print(s2)\n",
    "plt.plot(s2)\n",
    "print(s3)\n",
    "plt.plot(s3)"
   ]
  },
  {
   "cell_type": "code",
   "execution_count": null,
   "metadata": {},
   "outputs": [],
   "source": []
  }
 ],
 "metadata": {
  "kernelspec": {
   "display_name": "Python 3",
   "language": "python",
   "name": "python3"
  },
  "language_info": {
   "codemirror_mode": {
    "name": "ipython",
    "version": 3
   },
   "file_extension": ".py",
   "mimetype": "text/x-python",
   "name": "python",
   "nbconvert_exporter": "python",
   "pygments_lexer": "ipython3",
   "version": "3.6.5"
  }
 },
 "nbformat": 4,
 "nbformat_minor": 2
}
