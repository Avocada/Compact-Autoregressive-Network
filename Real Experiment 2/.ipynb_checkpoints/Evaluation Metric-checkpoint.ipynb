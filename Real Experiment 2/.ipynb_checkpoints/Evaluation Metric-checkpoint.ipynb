{
 "cells": [
  {
   "cell_type": "code",
   "execution_count": 1,
   "metadata": {},
   "outputs": [],
   "source": [
    "import numpy as np\n",
    "import torch"
   ]
  },
  {
   "cell_type": "code",
   "execution_count": 2,
   "metadata": {},
   "outputs": [],
   "source": [
    "def rmse(a,b):\n",
    "    return np.sqrt(np.mean((a-b)**2))\n",
    "def mape(a,b):\n",
    "    return np.mean(np.abs(np.multiply(b-a, np.reciprocal(b,-1))))\n",
    "def mae(a,b):\n",
    "    return np.mean(np.abs(a-b))"
   ]
  },
  {
   "cell_type": "code",
   "execution_count": 3,
   "metadata": {},
   "outputs": [],
   "source": [
    "in1 = torch.load(\"Real_100_245_20_2s.py\")[\"y_true\"]\n",
    "in2 = torch.load(\"Real_100_245_20_2s.py\")[\"LTRDW_pred\"]\n",
    "in3 = torch.load(\"Real_100_245_20_2s.py\")[\"LTRN_pred\"]\n",
    "in4 = torch.load(\"Real_100_245_20_2s.py\")[\"LTRL_pred\"]\n",
    "in5 = torch.load(\"Real_100_245_20_2s.py\")[\"LTRM_pred\"]\n",
    "in6 = torch.load(\"Real_100_245_20_2s.py\")[\"LTRR_pred\"]\n",
    "in7 = torch.load(\"Real_100RNN2s.py\")[\"LTRRNN1_pred\"]\n",
    "in8 = torch.load(\"Real_100LSTM2s.py\")[\"LTRLSTM1_pred\"]"
   ]
  },
  {
   "cell_type": "code",
   "execution_count": 4,
   "metadata": {},
   "outputs": [],
   "source": [
    "y_true = in1[0].view(1,-1).float()\n",
    "for i in range(1,len(in1)):\n",
    "    y_true = torch.cat([y_true, in1[i].view(1,-1).float()],dim=0)\n",
    "y_true = np.array(y_true.detach())\n",
    "LTRDW = in2[0].view(1,-1)\n",
    "for i in range(1,len(in2)):\n",
    "    LTRDW = torch.cat([LTRDW, in2[i].view(1,-1)],dim=0)\n",
    "LTRDW = np.array(LTRDW.detach())\n",
    "LTRN = in3[0].view(1,-1)\n",
    "for i in range(1,len(in3)):\n",
    "    LTRN = torch.cat([LTRN, in3[i].view(1,-1)],dim=0)\n",
    "LTRN = np.array(LTRN.detach())\n",
    "LTRL = in4[0].view(1,-1)\n",
    "for i in range(1,len(in4)):\n",
    "    LTRL = torch.cat([LTRL, in4[i].view(1,-1)],dim=0)\n",
    "LTRL = np.array(LTRL.detach())\n",
    "LTRM = in5[0].view(1,-1)\n",
    "for i in range(1,len(in5)):\n",
    "    LTRM = torch.cat([LTRM, in5[i].view(1,-1)],dim=0)\n",
    "LTRM = np.array(LTRM.detach())\n",
    "LTRR = in6[0].view(1,-1)\n",
    "for i in range(1,len(in6)):\n",
    "    LTRR = torch.cat([LTRR, in6[i].view(1,-1)],dim=0)\n",
    "LTRR = np.array(LTRR.detach())\n",
    "LTRRNN1 = in7[0]\n",
    "for i in range(1,len(in7)):\n",
    "    LTRRNN1 = np.concatenate([LTRRNN1, in7[i]])\n",
    "LTRLSTM = in8[0]\n",
    "for i in range(1,len(in8)):\n",
    "    LTRLSTM = np.concatenate([LTRLSTM, in8[i]])"
   ]
  },
  {
   "cell_type": "code",
   "execution_count": 5,
   "metadata": {},
   "outputs": [
    {
     "name": "stdout",
     "output_type": "stream",
     "text": [
      "0.12057188 0.07582112\n",
      "0.12076407 0.07576641\n",
      "0.15460704 0.09215966\n",
      "0.13136673 0.09270443\n",
      "0.13872924 0.08499395\n",
      "0.12551296 0.08065398\n",
      "0.1277165 0.08521752\n"
     ]
    }
   ],
   "source": [
    "print(rmse(LTRDW,y_true),mae(LTRDW,y_true))\n",
    "print(rmse(LTRN,y_true),mae(LTRN,y_true))\n",
    "print(rmse(LTRL,y_true),mae(LTRL,y_true))\n",
    "print(rmse(LTRM,y_true),mae(LTRM,y_true))\n",
    "print(rmse(LTRR,y_true),mae(LTRR,y_true))\n",
    "print(rmse(LTRRNN1,y_true),mae(LTRRNN1,y_true))\n",
    "print(rmse(LTRLSTM,y_true),mae(LTRLSTM,y_true))"
   ]
  },
  {
   "cell_type": "code",
   "execution_count": 6,
   "metadata": {},
   "outputs": [],
   "source": [
    "#Performing t-test for L2, L1 norm"
   ]
  },
  {
   "cell_type": "code",
   "execution_count": 7,
   "metadata": {},
   "outputs": [],
   "source": [
    "in9 = torch.load(\"Real_100_245_20_2s.py\")\n",
    "in10 = torch.load(\"Real_100RNN2s.py\")\n",
    "in11 = torch.load(\"Real_100LSTM2s.py\")\n",
    "pred_size = len(in9[\"predErrorDW\"])"
   ]
  },
  {
   "cell_type": "code",
   "execution_count": 8,
   "metadata": {},
   "outputs": [
    {
     "name": "stdout",
     "output_type": "stream",
     "text": [
      "0.7115289762922288\n",
      "0.7117751168962091\n",
      "0.807227811429077\n",
      "0.8024731564090586\n",
      "0.7673578566489943\n",
      "0.741984216280103\n",
      "0.7607955851141759\n"
     ]
    }
   ],
   "source": [
    "# bias of L2 norm\n",
    "print(np.mean(in9[\"predErrorDW\"]))\n",
    "print(np.mean(in9[\"predErrorN\"]))\n",
    "print(np.mean(in9[\"predErrorL\"]))\n",
    "print(np.mean(in9[\"predErrorM\"]))\n",
    "print(np.mean(in9[\"predErrorR\"]))\n",
    "print(np.mean(in10[\"predErrorRNN1\"]))\n",
    "print(np.mean(in11[\"predErrorLSTM1\"]))"
   ]
  },
  {
   "cell_type": "code",
   "execution_count": 9,
   "metadata": {},
   "outputs": [
    {
     "name": "stdout",
     "output_type": "stream",
     "text": [
      "0.03753317008106825\n",
      "0.037752881318186264\n",
      "0.06354852520108444\n",
      "0.03553826381546315\n",
      "0.05138308002257084\n",
      "0.03883628694003004\n",
      "0.03844696659400601\n"
     ]
    }
   ],
   "source": [
    "# stdL2/sqrt(105)\n",
    "print(np.std(in9[\"predErrorDW\"])/np.sqrt(pred_size))\n",
    "print(np.std(in9[\"predErrorN\"])/np.sqrt(pred_size))\n",
    "print(np.std(in9[\"predErrorL\"])/np.sqrt(pred_size))\n",
    "print(np.std(in9[\"predErrorM\"])/np.sqrt(pred_size))\n",
    "print(np.std(in9[\"predErrorR\"])/np.sqrt(pred_size))\n",
    "print(np.std(in10[\"predErrorRNN1\"])/np.sqrt(pred_size))\n",
    "print(np.std(in11[\"predErrorLSTM1\"])/np.sqrt(pred_size))"
   ]
  },
  {
   "cell_type": "code",
   "execution_count": 10,
   "metadata": {},
   "outputs": [
    {
     "name": "stdout",
     "output_type": "stream",
     "text": [
      "0.010585103761087117\n",
      "0.01066190159665709\n",
      "0.01066190159665709\n",
      "0.010106711670167412\n",
      "0.01441008134887856\n",
      "0.01073621260183698\n",
      "0.01125178296865545\n"
     ]
    }
   ],
   "source": [
    "#stdLinf/sqrt(105)\n",
    "print(np.std(in9[\"predErrorDWLinf\"])/np.sqrt(pred_size))\n",
    "print(np.std(in9[\"predErrorNLinf\"])/np.sqrt(pred_size))\n",
    "print(np.std(in9[\"predErrorLLinf\"])/np.sqrt(pred_size))\n",
    "print(np.std(in9[\"predErrorMLinf\"])/np.sqrt(pred_size))\n",
    "print(np.std(in9[\"predErrorRLinf\"])/np.sqrt(pred_size))\n",
    "print(np.std(in10[\"predErrorRNN1Linf\"])/np.sqrt(pred_size))\n",
    "print(np.std(in11[\"predErrorLSTM1Linf\"])/np.sqrt(pred_size))"
   ]
  },
  {
   "cell_type": "code",
   "execution_count": 11,
   "metadata": {},
   "outputs": [],
   "source": [
    "def L1norm(A, B):\n",
    "    gap = np.sum(abs(A - B))\n",
    "    return gap"
   ]
  },
  {
   "cell_type": "code",
   "execution_count": 12,
   "metadata": {},
   "outputs": [],
   "source": [
    "L1listDW = np.zeros(pred_size)\n",
    "L1listN = np.zeros(pred_size)\n",
    "L1listL = np.zeros(pred_size)\n",
    "L1listM = np.zeros(pred_size)\n",
    "L1listR = np.zeros(pred_size)\n",
    "L1listRNN = np.zeros(pred_size)\n",
    "L1listLSTM = np.zeros(pred_size)\n",
    "for i in range(pred_size):\n",
    "    L1listDW[i] = L1norm(LTRDW[i],y_true[i])\n",
    "    L1listN[i] = L1norm(LTRN[i],y_true[i])\n",
    "    L1listL[i] = L1norm(LTRL[i],y_true[i])\n",
    "    L1listM[i] = L1norm(LTRM[i],y_true[i])\n",
    "    L1listR[i] = L1norm(LTRR[i],y_true[i])\n",
    "    L1listRNN[i] = L1norm(LTRRNN1[i],y_true[i])\n",
    "    L1listLSTM[i] = L1norm(LTRLSTM[i],y_true[i])"
   ]
  },
  {
   "cell_type": "code",
   "execution_count": 13,
   "metadata": {},
   "outputs": [
    {
     "name": "stdout",
     "output_type": "stream",
     "text": [
      "3.411949861617315\n",
      "3.4094883600870767\n",
      "4.147184320858547\n",
      "4.171699546632313\n",
      "3.8247278554098947\n",
      "3.629429132597787\n",
      "3.8347888594581967\n"
     ]
    }
   ],
   "source": [
    "print(np.mean(L1listDW))\n",
    "print(np.mean(L1listN))\n",
    "print(np.mean(L1listL))\n",
    "print(np.mean( L1listM))\n",
    "print(np.mean( L1listR))\n",
    "print(np.mean( L1listRNN))\n",
    "print(np.mean( L1listLSTM  ))"
   ]
  },
  {
   "cell_type": "code",
   "execution_count": 14,
   "metadata": {},
   "outputs": [
    {
     "name": "stdout",
     "output_type": "stream",
     "text": [
      "0.2332677070348673\n",
      "0.2342780033575682\n",
      "0.4237668996145996\n",
      "0.21972575339309947\n",
      "0.3044284835677221\n",
      "0.24123534000373098\n",
      "0.2335290088378285\n"
     ]
    }
   ],
   "source": [
    "print(np.std(L1listDW)/np.sqrt(pred_size))\n",
    "print(np.std(L1listN)/np.sqrt(pred_size))\n",
    "print(np.std(L1listL)/np.sqrt(pred_size))\n",
    "print(np.std(L1listM)/np.sqrt(pred_size))\n",
    "print(np.std(L1listR)/np.sqrt(pred_size))\n",
    "print(np.std(L1listRNN)/np.sqrt(pred_size))\n",
    "print(np.std(L1listLSTM)/np.sqrt(pred_size))"
   ]
  },
  {
   "cell_type": "code",
   "execution_count": 15,
   "metadata": {},
   "outputs": [
    {
     "name": "stdout",
     "output_type": "stream",
     "text": [
      "-3.1207136508840203\n",
      "-8.048603841267111\n"
     ]
    }
   ],
   "source": [
    "#  paired 2-sample t-test for L1 norm\n",
    "\n",
    "print(np.mean(L1listDW-L1listRNN)/(np.std(L1listDW-L1listRNN)/np.sqrt(pred_size)))\n",
    "print(np.mean(L1listDW-L1listLSTM)/(np.std(L1listDW-L1listLSTM)/np.sqrt(pred_size)))"
   ]
  },
  {
   "cell_type": "code",
   "execution_count": 16,
   "metadata": {},
   "outputs": [],
   "source": [
    "L2listDW = np.array(in9[\"predErrorDW\"])\n",
    "L2listN = np.array(in9[\"predErrorN\"])\n",
    "L2listL = np.array(in9[\"predErrorL\"])\n",
    "L2listM = np.array(in9[\"predErrorM\"])\n",
    "L2listR = np.array(in9[\"predErrorR\"])\n",
    "L2listRNN = np.array(in10[\"predErrorRNN1\"])\n",
    "L2listLSTM = np.array(in11[\"predErrorLSTM1\"])"
   ]
  },
  {
   "cell_type": "code",
   "execution_count": 17,
   "metadata": {},
   "outputs": [
    {
     "name": "stdout",
     "output_type": "stream",
     "text": [
      "-2.8794262099010277\n",
      "-6.461090526095418\n"
     ]
    }
   ],
   "source": [
    "#  paired 2-sample t-test for L2 norm\n",
    "\n",
    "print(np.mean(L2listDW-L2listRNN)/(np.std(L2listDW-L2listRNN)/np.sqrt(pred_size)))\n",
    "print(np.mean(L2listDW-L2listLSTM)/(np.std(L2listDW-L2listLSTM)/np.sqrt(pred_size)))"
   ]
  },
  {
   "cell_type": "code",
   "execution_count": 18,
   "metadata": {},
   "outputs": [],
   "source": [
    "LlistDWLinf = np.array(in9[\"predErrorDWLinf\"])\n",
    "LlistNLinf = np.array(in9[\"predErrorNLinf\"])\n",
    "LlistLLinf = np.array(in9[\"predErrorLLinf\"])\n",
    "LlistMLinf = np.array(in9[\"predErrorMLinf\"])\n",
    "LlistRLinf = np.array(in9[\"predErrorRLinf\"])\n",
    "LlistRNNLinf = np.array(in10[\"predErrorRNN1Linf\"])\n",
    "LlistLSTMLinf = np.array(in11[\"predErrorLSTM1Linf\"])`s"
   ]
  },
  {
   "cell_type": "code",
   "execution_count": 19,
   "metadata": {},
   "outputs": [
    {
     "name": "stdout",
     "output_type": "stream",
     "text": [
      "-1.4100138352269314\n",
      "-0.682235975819973\n"
     ]
    }
   ],
   "source": [
    "#  paired 2-sample t-test for Linf norm\n",
    "\n",
    "print(np.mean(LlistDWLinf-LlistRNNLinf)/(np.std(LlistDWLinf-LlistRNNLinf)/np.sqrt(pred_size)))\n",
    "print(np.mean(LlistDWLinf-LlistLSTMLinf)/(np.std(LlistDWLinf-LlistLSTMLinf)/np.sqrt(pred_size)))"
   ]
  },
  {
   "cell_type": "code",
   "execution_count": null,
   "metadata": {},
   "outputs": [],
   "source": []
  }
 ],
 "metadata": {
  "kernelspec": {
   "display_name": "Python 3",
   "language": "python",
   "name": "python3"
  },
  "language_info": {
   "codemirror_mode": {
    "name": "ipython",
    "version": 3
   },
   "file_extension": ".py",
   "mimetype": "text/x-python",
   "name": "python",
   "nbconvert_exporter": "python",
   "pygments_lexer": "ipython3",
   "version": "3.6.5"
  }
 },
 "nbformat": 4,
 "nbformat_minor": 2
}
